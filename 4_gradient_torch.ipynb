{
  "nbformat": 4,
  "nbformat_minor": 0,
  "metadata": {
    "colab": {
      "name": "4_gradient_torch.ipynb",
      "provenance": [],
      "collapsed_sections": [],
      "authorship_tag": "ABX9TyOeemrd/SmMJAxC5W8jY1HH",
      "include_colab_link": true
    },
    "kernelspec": {
      "name": "python3",
      "display_name": "Python 3"
    },
    "language_info": {
      "name": "python"
    },
    "accelerator": "GPU"
  },
  "cells": [
    {
      "cell_type": "markdown",
      "metadata": {
        "id": "view-in-github",
        "colab_type": "text"
      },
      "source": [
        "<a href=\"https://colab.research.google.com/github/mspatke/Deep-Learning-with-Pytorch/blob/main/4_gradient_torch.ipynb\" target=\"_parent\"><img src=\"https://colab.research.google.com/assets/colab-badge.svg\" alt=\"Open In Colab\"/></a>"
      ]
    },
    {
      "cell_type": "code",
      "execution_count": 18,
      "metadata": {
        "id": "haf1vHaHaZE8"
      },
      "outputs": [],
      "source": [
        "import torch "
      ]
    },
    {
      "cell_type": "code",
      "source": [
        "# f = w* x\n",
        "\n",
        "# f = 2* x"
      ],
      "metadata": {
        "id": "TTDH1J92a7Do"
      },
      "execution_count": 2,
      "outputs": []
    },
    {
      "cell_type": "code",
      "source": [
        "X = torch.tensor([1,2,3,4], dtype = torch.float32)\n",
        "\n",
        "Y= torch.tensor([2,4,6,8], dtype = torch.float32)"
      ],
      "metadata": {
        "id": "MUHxFROgtnDp"
      },
      "execution_count": 19,
      "outputs": []
    },
    {
      "cell_type": "code",
      "source": [
        "w = torch.tensor(0.0, dtype = torch.float32, requires_grad=True)"
      ],
      "metadata": {
        "id": "_KyJuFKYtuMr"
      },
      "execution_count": 22,
      "outputs": []
    },
    {
      "cell_type": "code",
      "source": [
        "#Model preditcion\n",
        "def forward(x):\n",
        "  return w * x"
      ],
      "metadata": {
        "id": "j7DxnM3Zt1Nz"
      },
      "execution_count": 23,
      "outputs": []
    },
    {
      "cell_type": "code",
      "source": [
        "#loss = MSE\n",
        "\n",
        "def loss(y,y_pred):\n",
        "  return((y_pred - y )**2).mean()"
      ],
      "metadata": {
        "id": "ynLJjvjrt68R"
      },
      "execution_count": 24,
      "outputs": []
    },
    {
      "cell_type": "code",
      "source": [
        "# #gradient\n",
        "\n",
        "# # MSE = 1/N * (w * x - y)**2\n",
        "# # dj/dw = 1/N 2 x (w * x - y)\n",
        "\n",
        "# def gradient(x,y,y_pred):\n",
        "#   return np.dot(2*x, y_pred-y).mean()"
      ],
      "metadata": {
        "id": "vxWfCQ7ZuKiQ"
      },
      "execution_count": 25,
      "outputs": []
    },
    {
      "cell_type": "code",
      "source": [
        "# print(f\"Prediction before training: f(5) = {forward(5):.3f}\")"
      ],
      "metadata": {
        "id": "SGfZy7wwujA9"
      },
      "execution_count": 26,
      "outputs": []
    },
    {
      "cell_type": "code",
      "source": [
        "learning_rate = 0.01\n",
        "iters = 100"
      ],
      "metadata": {
        "id": "rLeN0foOuv-L"
      },
      "execution_count": 28,
      "outputs": []
    },
    {
      "cell_type": "code",
      "source": [
        "for epoch in range(iters):\n",
        "\n",
        "  #prediction fwd pass\n",
        "  y_pred = forward(X)\n",
        "  l = loss(Y,y_pred)\n",
        "\n",
        "  #gradinets = backward pass\n",
        "\n",
        "  # dw = gradient(X,Y,y_pred)\n",
        "  l.backward()\n",
        "\n",
        "  #updates weights\n",
        "  with torch.no_grad():\n",
        "    w -= learning_rate * w.grad\n",
        "\n",
        "  #zero gradients\n",
        "  w.grad.zero_()\n",
        "  \n",
        "  #to chcek progress after evryy 10th iterations\n",
        "  if epoch % 10 ==0:\n",
        "    print(f'epoch {epoch+1} : w={w:.3f}, loss ={l:.8f}')\n",
        "\n",
        "print(f\"Prediction after training: f(5) = {forward(5):.3f}\")"
      ],
      "metadata": {
        "colab": {
          "base_uri": "https://localhost:8080/"
        },
        "id": "IVagettTu3Z5",
        "outputId": "73d78248-0678-4086-dd9e-14cee528cdd8"
      },
      "execution_count": 29,
      "outputs": [
        {
          "output_type": "stream",
          "name": "stdout",
          "text": [
            "epoch 1 : w=1.934, loss =0.04506890\n",
            "epoch 11 : w=1.987, loss =0.00174685\n",
            "epoch 21 : w=1.997, loss =0.00006770\n",
            "epoch 31 : w=1.999, loss =0.00000262\n",
            "epoch 41 : w=2.000, loss =0.00000010\n",
            "epoch 51 : w=2.000, loss =0.00000000\n",
            "epoch 61 : w=2.000, loss =0.00000000\n",
            "epoch 71 : w=2.000, loss =0.00000000\n",
            "epoch 81 : w=2.000, loss =0.00000000\n",
            "epoch 91 : w=2.000, loss =0.00000000\n",
            "Prediction after training: f(5) = 10.000\n"
          ]
        }
      ]
    },
    {
      "cell_type": "code",
      "source": [
        ""
      ],
      "metadata": {
        "id": "Kiqr4xIYwBwH"
      },
      "execution_count": null,
      "outputs": []
    }
  ]
}