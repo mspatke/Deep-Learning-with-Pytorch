{
  "nbformat": 4,
  "nbformat_minor": 0,
  "metadata": {
    "colab": {
      "name": "9_activation_function.ipynb",
      "private_outputs": true,
      "provenance": [],
      "authorship_tag": "ABX9TyNMnq2ZgfUpmXjkqyEJx1We",
      "include_colab_link": true
    },
    "kernelspec": {
      "name": "python3",
      "display_name": "Python 3"
    },
    "language_info": {
      "name": "python"
    }
  },
  "cells": [
    {
      "cell_type": "markdown",
      "metadata": {
        "id": "view-in-github",
        "colab_type": "text"
      },
      "source": [
        "<a href=\"https://colab.research.google.com/github/mspatke/Deep-Learning-with-Pytorch/blob/main/9_activation_function.ipynb\" target=\"_parent\"><img src=\"https://colab.research.google.com/assets/colab-badge.svg\" alt=\"Open In Colab\"/></a>"
      ]
    },
    {
      "cell_type": "code",
      "execution_count": null,
      "metadata": {
        "id": "UnCix7DL6I2X"
      },
      "outputs": [],
      "source": [
        "import torch\n",
        "import torch.nn as nn\n",
        "import torch.nn.functional as F"
      ]
    },
    {
      "cell_type": "code",
      "source": [
        "x = torch. tensor ([-1.0, 1.0, 2.0,3.0])"
      ],
      "metadata": {
        "id": "FQMAx_g86cln"
      },
      "execution_count": null,
      "outputs": []
    },
    {
      "cell_type": "code",
      "source": [
        "# output = WX + b\n",
        "# output = activation_function(output)\n",
        "\n",
        "#softmax\n",
        "\n",
        "output = torch.softmax(x, dim=0)\n",
        "print(output)\n",
        "\n",
        "sm = nn.Softmax(dim=0)\n",
        "output= sm(x)\n",
        "print(output)"
      ],
      "metadata": {
        "id": "RrjQbs6y6npd"
      },
      "execution_count": null,
      "outputs": []
    },
    {
      "cell_type": "code",
      "source": [
        "# sigmoid\n",
        "\n",
        "output = torch.sigmoid(x)\n",
        "print(output)\n",
        "\n",
        "s=nn.Sigmoid()\n",
        "output = s(x)\n",
        "print(output)"
      ],
      "metadata": {
        "id": "1TNYKfxx6ykz"
      },
      "execution_count": null,
      "outputs": []
    },
    {
      "cell_type": "code",
      "source": [
        "#tanh\n",
        "\n",
        "output = torch.tanh(x)\n",
        "print(output)\n",
        "\n",
        "s=nn.Tanh()\n",
        "output = s(x)\n",
        "print(output)"
      ],
      "metadata": {
        "id": "2iVYgR0E7act"
      },
      "execution_count": null,
      "outputs": []
    },
    {
      "cell_type": "code",
      "source": [
        "# ReLU\n",
        "\n",
        "output = torch.relu(x)\n",
        "print(output)\n",
        "\n",
        "s=nn.ReLU()\n",
        "output = s(x)\n",
        "print(output)"
      ],
      "metadata": {
        "id": "OgBwoy1h7qNO"
      },
      "execution_count": null,
      "outputs": []
    },
    {
      "cell_type": "code",
      "source": [
        "# Leaky Relu\n",
        "\n",
        "output = F.leaky_relu(x)\n",
        "print(output)\n",
        "\n",
        "s=nn.LeakyReLU()\n",
        "output = s(x)\n",
        "print(output)"
      ],
      "metadata": {
        "id": "tCLvKjxp74u9"
      },
      "execution_count": null,
      "outputs": []
    },
    {
      "cell_type": "code",
      "source": [
        "# option 1 (create nn modules)\n",
        "\n",
        "class NeuralNet(nn.Module):\n",
        "   \n",
        "    def __init__(self, input_size, hidden_size):\n",
        "        super(NeuralNet, self).__init__()\n",
        "        self.linear1 = nn.Linear(input_size, hidden_size)\n",
        "        self.relu = nn.ReLU()\n",
        "        self.linear2 = nn.Linear(hidden_size, 1)\n",
        "        self.sigmoid = nn.Sigmoid()\n",
        "    \n",
        "    def forward(self, x):\n",
        "        out = self.linear1(x)\n",
        "        out = self.relu(out)\n",
        "        out = self.linear2(out)\n",
        "        out = self.sigmoid(out)\n",
        "        return out"
      ],
      "metadata": {
        "id": "hClLy24Y8NzL"
      },
      "execution_count": null,
      "outputs": []
    },
    {
      "cell_type": "code",
      "source": [
        "# option 2 (use activation functions directly in forward pass)\n",
        "class NeuralNet(nn.Module):\n",
        "    def __init__(self, input_size, hidden_size):\n",
        "        super(NeuralNet, self).__init__()\n",
        "        self.linear1 = nn.Linear(input_size, hidden_size)\n",
        "        self.linear2 = nn.Linear(hidden_size, 1)\n",
        "    \n",
        "    def forward(self, x):\n",
        "        out = torch.relu(self.linear1(x))\n",
        "        out = torch.sigmoid(self.linear2(out))\n",
        "        return out"
      ],
      "metadata": {
        "id": "9XkIliTD8WFB"
      },
      "execution_count": null,
      "outputs": []
    },
    {
      "cell_type": "code",
      "source": [
        ""
      ],
      "metadata": {
        "id": "FSKWntHs8aEW"
      },
      "execution_count": null,
      "outputs": []
    }
  ]
}