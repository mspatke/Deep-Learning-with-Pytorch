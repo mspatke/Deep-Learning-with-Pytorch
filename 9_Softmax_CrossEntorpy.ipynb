{
  "nbformat": 4,
  "nbformat_minor": 0,
  "metadata": {
    "colab": {
      "name": "9_Softmax_CrossEntorpy.ipynb",
      "provenance": [],
      "collapsed_sections": [],
      "authorship_tag": "ABX9TyNU3M4dlAu8p3bFQ/SnvUdx",
      "include_colab_link": true
    },
    "kernelspec": {
      "name": "python3",
      "display_name": "Python 3"
    },
    "language_info": {
      "name": "python"
    }
  },
  "cells": [
    {
      "cell_type": "markdown",
      "metadata": {
        "id": "view-in-github",
        "colab_type": "text"
      },
      "source": [
        "<a href=\"https://colab.research.google.com/github/mspatke/Deep-Learning-with-Pytorch/blob/main/9_Softmax_CrossEntorpy.ipynb\" target=\"_parent\"><img src=\"https://colab.research.google.com/assets/colab-badge.svg\" alt=\"Open In Colab\"/></a>"
      ]
    },
    {
      "cell_type": "code",
      "execution_count": 1,
      "metadata": {
        "id": "DSWUVn1ETdHO"
      },
      "outputs": [],
      "source": [
        "import torch\n",
        "import torch.nn as nn\n",
        "import numpy as np"
      ]
    },
    {
      "cell_type": "code",
      "source": [
        "def softmax(x):\n",
        "  return np.exp(x)/np.sum(np.exp(x), axis=0)"
      ],
      "metadata": {
        "id": "4phwiu4YXsWO"
      },
      "execution_count": 2,
      "outputs": []
    },
    {
      "cell_type": "code",
      "source": [
        "x = np.array([2.0, 1.0, 0.1])\n",
        "\n",
        "outputs = softmax(x)\n",
        "print(\"softmax numpy:\", outputs)"
      ],
      "metadata": {
        "colab": {
          "base_uri": "https://localhost:8080/"
        },
        "id": "5N9s7LisYZp3",
        "outputId": "d5a3e077-30bf-4e1f-c21e-2c64d6300b5e"
      },
      "execution_count": 3,
      "outputs": [
        {
          "output_type": "stream",
          "name": "stdout",
          "text": [
            "softmax numpy: [0.65900114 0.24243297 0.09856589]\n"
          ]
        }
      ]
    },
    {
      "cell_type": "code",
      "source": [
        "x = torch.tensor([2.0, 1.0, 0.1])\n",
        "\n",
        "\n",
        "outputs = torch.softmax(x, dim=0)\n",
        "\n",
        "print(\"softmax Torch:\", outputs)"
      ],
      "metadata": {
        "colab": {
          "base_uri": "https://localhost:8080/"
        },
        "id": "J3LXD85gYn4U",
        "outputId": "2bfeacda-3da3-4099-aa75-fb370bf49767"
      },
      "execution_count": 4,
      "outputs": [
        {
          "output_type": "stream",
          "name": "stdout",
          "text": [
            "softmax Torch: tensor([0.6590, 0.2424, 0.0986])\n"
          ]
        }
      ]
    },
    {
      "cell_type": "code",
      "source": [
        "def cross_entropy(actual, predicted):\n",
        "  \n",
        "  EPS= 1e-15\n",
        "  predicted = np.clip(predicted, EPS, 1- EPS)\n",
        "  loss = -np.sum(actual * np.log(predicted))\n",
        "\n",
        "  return loss"
      ],
      "metadata": {
        "id": "LSMxr3PDY3x0"
      },
      "execution_count": 5,
      "outputs": []
    },
    {
      "cell_type": "code",
      "source": [
        "y = np.array([1,0,0])\n",
        "y_pred_good = np.array([0.7,0.2,0.1])\n",
        "y_pred_bad = np.array([0.1,0.3,0.6])"
      ],
      "metadata": {
        "id": "mG8Q8Iy3ZO_c"
      },
      "execution_count": 6,
      "outputs": []
    },
    {
      "cell_type": "code",
      "source": [
        "l1 = cross_entropy(y, y_pred_bad)\n",
        "l2 = cross_entropy(y, y_pred_good)\n",
        "\n",
        "print(f'Loss 1 numpy:{l1:.4f}')\n",
        "print(f'Loss 1 numpy:{l2:.4f}')"
      ],
      "metadata": {
        "colab": {
          "base_uri": "https://localhost:8080/"
        },
        "id": "3NcjhXI5ZhPM",
        "outputId": "652190cc-e917-41e7-c78d-05fb8e4bad6b"
      },
      "execution_count": 11,
      "outputs": [
        {
          "output_type": "stream",
          "name": "stdout",
          "text": [
            "Loss 1 numpy:2.3026\n",
            "Loss 1 numpy:0.3567\n"
          ]
        }
      ]
    },
    {
      "cell_type": "code",
      "source": [
        "loss = nn.CrossEntropyLoss()\n",
        "#loss(input, target)"
      ],
      "metadata": {
        "id": "018mVD-CZ2pY"
      },
      "execution_count": 15,
      "outputs": []
    },
    {
      "cell_type": "code",
      "source": [
        "Y = torch.tensor([0])"
      ],
      "metadata": {
        "id": "2W5N9gizaJBa"
      },
      "execution_count": 16,
      "outputs": []
    },
    {
      "cell_type": "code",
      "source": [
        "#input is of size nsample * nclasess 1* 3\n",
        "#y_pred = must be raw , unnormalizes scores logits for each class not soft max\n",
        "\n",
        "\n",
        "Y_pred_good = torch.tensor([[2.0,1.0,0.1]])\n",
        "Y_pred_bad = torch.tensor([[0.5,2.0,0.3]])"
      ],
      "metadata": {
        "id": "lftGEwV-as4M"
      },
      "execution_count": 25,
      "outputs": []
    },
    {
      "cell_type": "code",
      "source": [
        "l1 = loss(Y_pred_bad,Y)\n",
        "l2 = loss(Y_pred_good,Y)\n",
        "\n",
        "print(f'Loss 1 tensor',l1.item())\n",
        "print(f'Loss 2 tensor:',l2.item())"
      ],
      "metadata": {
        "colab": {
          "base_uri": "https://localhost:8080/"
        },
        "id": "CfDRUTz6at06",
        "outputId": "57ff18bf-ceb8-4f8f-ebec-16696cd8b6cc"
      },
      "execution_count": 26,
      "outputs": [
        {
          "output_type": "stream",
          "name": "stdout",
          "text": [
            "Loss 1 tensor 1.840616226196289\n",
            "Loss 2 tensor: 0.4170299470424652\n"
          ]
        }
      ]
    },
    {
      "cell_type": "code",
      "source": [
        "#get predictions\n",
        "\n",
        "_, prediction1 = torch.max(Y_pred_good, 1)\n",
        "_, prediction2 = torch.max(Y_pred_bad, 1)\n",
        "\n",
        "print(f'Actual Class:{Y.item()}, Y_pred1:{prediction1.item()}, Y_pred2: {prediction2.item()}')\n"
      ],
      "metadata": {
        "colab": {
          "base_uri": "https://localhost:8080/"
        },
        "id": "-d1NhDkfb6z3",
        "outputId": "97363f09-cedc-4375-edd7-1eb33932171f"
      },
      "execution_count": 28,
      "outputs": [
        {
          "output_type": "stream",
          "name": "stdout",
          "text": [
            "Actual Class:0, Y_pred1:0, Y_pred2: 1\n"
          ]
        }
      ]
    },
    {
      "cell_type": "code",
      "source": [
        "Y = torch.tensor([2,0,1])\n",
        "\n",
        "Y_pred_good = torch.tensor([[0.1,0.2,3.9], # 0 0 1 = 2\n",
        "                           [1.2,0.1,0.3],  # 1 0 0 = 0\n",
        "                           [0.32,2,0.2]])  # 0 1 0 = 1\n",
        "\n",
        "Y_pred_bad = torch.tensor([[0.9,0.2,0.1], #  1 0 0 = 0\n",
        "                          [0.1,0.3,1.5],  #  0 0 1 = 2\n",
        "                          [1.2,0.2,0.5]]) #  1 0 0 = 0"
      ],
      "metadata": {
        "id": "GLY3mtY0u24s"
      },
      "execution_count": 33,
      "outputs": []
    },
    {
      "cell_type": "code",
      "source": [
        "l1 = loss(Y_pred_good, Y)\n",
        "l2 = loss(Y_pred_bad, Y)\n",
        "\n",
        "print(f'Loss 1 tensor',l1.item())\n",
        "print(f'Loss 2 tensor:',l2.item())"
      ],
      "metadata": {
        "colab": {
          "base_uri": "https://localhost:8080/"
        },
        "id": "ZOBhaLndwjEi",
        "outputId": "6f93bb71-3ccf-4cce-ed6c-5af4db83573b"
      },
      "execution_count": 34,
      "outputs": [
        {
          "output_type": "stream",
          "name": "stdout",
          "text": [
            "Loss 1 tensor 0.3003085255622864\n",
            "Loss 2 tensor: 1.6418448686599731\n"
          ]
        }
      ]
    },
    {
      "cell_type": "code",
      "source": [
        "#Predictions\n",
        "\n",
        "_,prediction1 = torch.max(Y_pred_bad, 1)\n",
        "\n",
        "_,prediction2 = torch.max(Y_pred_good, 1)\n",
        "\n",
        "print(f'Actual class: {Y},Y_pred1: {prediction1}, Y_pred2: {prediction2}')"
      ],
      "metadata": {
        "colab": {
          "base_uri": "https://localhost:8080/"
        },
        "id": "9lD6BNDAxUhh",
        "outputId": "a0357f05-e6ef-4777-9044-a90d44250472"
      },
      "execution_count": 37,
      "outputs": [
        {
          "output_type": "stream",
          "name": "stdout",
          "text": [
            "Actual class: tensor([2, 0, 1]),Y_pred1: tensor([0, 2, 0]), Y_pred2: tensor([2, 0, 1])\n"
          ]
        }
      ]
    },
    {
      "cell_type": "code",
      "source": [
        "# Binary class Problem\n",
        "\n",
        "class NeuralNet1(nn.Module):\n",
        "\n",
        "  def __init__(self, input_size, hidden_size):\n",
        "    super(NeuralNet1, self).__init__()\n",
        "    self.linear1= nn.Linear(input_size, hidden_size)\n",
        "    self.relu = nn.ReLU()\n",
        "    self.linear1 = nn.Linear(hidden_size,1)\n",
        "\n",
        "    def forward(self, x):\n",
        "      out = self.linear1(x)\n",
        "      out = self.relu(out)\n",
        "      out = self.linear2(out)\n",
        "\n",
        "      #sigmoid at the end\n",
        "      y_pred = torch.sigmoid(out)\n",
        "      return y_pred\n",
        "\n",
        "\n",
        "\n",
        "Model = NeuralNet1(input_size=28*28, hidden_size=5)\n",
        "\n",
        "criterion = nn.BCELoss()"
      ],
      "metadata": {
        "id": "7epsqNA-yPu_"
      },
      "execution_count": 44,
      "outputs": []
    },
    {
      "cell_type": "code",
      "source": [
        "# Multi class classification\n",
        "\n",
        "from numpy.core.numeric import outer\n",
        "\n",
        "class NeuralNet1(nn.Module):\n",
        "\n",
        "  def __init__(self, input_size, hidden_size, num_classes):\n",
        "    super(NeuralNet1, self).__init__()\n",
        "    self.linear1= nn.Linear(input_size, hidden_size)\n",
        "    self.relu = nn.ReLU()\n",
        "    self.linear1 = nn.Linear(hidden_size, num_classes)\n",
        "\n",
        "    def forward(self, x):\n",
        "      out = self.linear1(x)\n",
        "      out = self.relu(out)\n",
        "      out = self.linear2(out)\n",
        "\n",
        "      #no sigmoid at the end\n",
        "      #y_pred = torch.sigmoid(out)\n",
        "      return out\n",
        "\n",
        "\n",
        "\n",
        "Model = NeuralNet1(input_size=28*28, hidden_size=5, num_classes=3)\n",
        "criterion = nn.CrossEntropyLoss()"
      ],
      "metadata": {
        "id": "iEOwiHVQ0GLv"
      },
      "execution_count": 45,
      "outputs": []
    },
    {
      "cell_type": "code",
      "source": [
        ""
      ],
      "metadata": {
        "id": "053JlziN0xJx"
      },
      "execution_count": null,
      "outputs": []
    }
  ]
}