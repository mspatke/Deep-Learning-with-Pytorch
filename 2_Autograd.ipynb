{
  "nbformat": 4,
  "nbformat_minor": 0,
  "metadata": {
    "colab": {
      "name": "2_Autograd.ipynb",
      "provenance": [],
      "collapsed_sections": [],
      "authorship_tag": "ABX9TyMF/QNOHv2p/Pt7S8HRfAPO",
      "include_colab_link": true
    },
    "kernelspec": {
      "name": "python3",
      "display_name": "Python 3"
    },
    "language_info": {
      "name": "python"
    },
    "accelerator": "GPU"
  },
  "cells": [
    {
      "cell_type": "markdown",
      "metadata": {
        "id": "view-in-github",
        "colab_type": "text"
      },
      "source": [
        "<a href=\"https://colab.research.google.com/github/mspatke/Deep-Learning-with-Pytorch/blob/main/2_Autograd.ipynb\" target=\"_parent\"><img src=\"https://colab.research.google.com/assets/colab-badge.svg\" alt=\"Open In Colab\"/></a>"
      ]
    },
    {
      "cell_type": "code",
      "execution_count": 1,
      "metadata": {
        "id": "LOCUGkacMY6k"
      },
      "outputs": [],
      "source": [
        "import torch"
      ]
    },
    {
      "cell_type": "code",
      "source": [
        "x= torch.randn(3)"
      ],
      "metadata": {
        "id": "bchBk4sDMkY3"
      },
      "execution_count": 2,
      "outputs": []
    },
    {
      "cell_type": "code",
      "source": [
        "x"
      ],
      "metadata": {
        "colab": {
          "base_uri": "https://localhost:8080/"
        },
        "id": "adJ6EhVjMoEd",
        "outputId": "068996c2-e906-46cc-ce9a-0edd891caf85"
      },
      "execution_count": 3,
      "outputs": [
        {
          "output_type": "execute_result",
          "data": {
            "text/plain": [
              "tensor([1.3600, 2.3960, 0.1047])"
            ]
          },
          "metadata": {},
          "execution_count": 3
        }
      ]
    },
    {
      "cell_type": "code",
      "source": [
        "x= torch.randn(3, requires_grad=True)"
      ],
      "metadata": {
        "id": "l3xMMWeZMoZN"
      },
      "execution_count": 4,
      "outputs": []
    },
    {
      "cell_type": "code",
      "source": [
        "x"
      ],
      "metadata": {
        "colab": {
          "base_uri": "https://localhost:8080/"
        },
        "id": "DYoP-rjOMvW_",
        "outputId": "b70f3b1d-e6f8-4070-dd0f-27bb6ef0ad86"
      },
      "execution_count": 5,
      "outputs": [
        {
          "output_type": "execute_result",
          "data": {
            "text/plain": [
              "tensor([-0.1345, -1.5727,  1.0133], requires_grad=True)"
            ]
          },
          "metadata": {},
          "execution_count": 5
        }
      ]
    },
    {
      "cell_type": "code",
      "source": [
        "y = x+2"
      ],
      "metadata": {
        "id": "iT_IftYjMwIa"
      },
      "execution_count": 6,
      "outputs": []
    },
    {
      "cell_type": "code",
      "source": [
        "y"
      ],
      "metadata": {
        "colab": {
          "base_uri": "https://localhost:8080/"
        },
        "id": "G1jIR-0EM14X",
        "outputId": "dc9b4e76-3960-4c32-c15a-69dd9d131084"
      },
      "execution_count": 7,
      "outputs": [
        {
          "output_type": "execute_result",
          "data": {
            "text/plain": [
              "tensor([1.8655, 0.4273, 3.0133], grad_fn=<AddBackward0>)"
            ]
          },
          "metadata": {},
          "execution_count": 7
        }
      ]
    },
    {
      "cell_type": "code",
      "source": [
        "z = y*y*2\n",
        "z"
      ],
      "metadata": {
        "colab": {
          "base_uri": "https://localhost:8080/"
        },
        "id": "kHONjLwzNPOT",
        "outputId": "ef36bcbb-0392-4758-9f51-c8bee554cc1f"
      },
      "execution_count": 8,
      "outputs": [
        {
          "output_type": "execute_result",
          "data": {
            "text/plain": [
              "tensor([ 6.9602,  0.3651, 18.1596], grad_fn=<MulBackward0>)"
            ]
          },
          "metadata": {},
          "execution_count": 8
        }
      ]
    },
    {
      "cell_type": "code",
      "source": [
        "z = z.mean()\n",
        "z"
      ],
      "metadata": {
        "colab": {
          "base_uri": "https://localhost:8080/"
        },
        "id": "uQtMLbBWNgIS",
        "outputId": "c443c2f6-8ba2-43a4-8a92-3faf088cf9fc"
      },
      "execution_count": 9,
      "outputs": [
        {
          "output_type": "execute_result",
          "data": {
            "text/plain": [
              "tensor(8.4950, grad_fn=<MeanBackward0>)"
            ]
          },
          "metadata": {},
          "execution_count": 9
        }
      ]
    },
    {
      "cell_type": "code",
      "source": [
        "z.backward() #calculate dz/dx"
      ],
      "metadata": {
        "id": "V1FPui5UNwZi"
      },
      "execution_count": 10,
      "outputs": []
    },
    {
      "cell_type": "code",
      "source": [
        "x.grad"
      ],
      "metadata": {
        "colab": {
          "base_uri": "https://localhost:8080/"
        },
        "id": "70F-9YGGNyll",
        "outputId": "ba4e3c12-c34a-4c32-9f86-2d407ea4227c"
      },
      "execution_count": 11,
      "outputs": [
        {
          "output_type": "execute_result",
          "data": {
            "text/plain": [
              "tensor([2.4873, 0.5697, 4.0177])"
            ]
          },
          "metadata": {},
          "execution_count": 11
        }
      ]
    },
    {
      "cell_type": "markdown",
      "source": [
        "methods to decalre tensor without gradient\n",
        "\n",
        "1. x.requires_grad_(False)\n",
        "2. x.detach()\n",
        "3. with torch.no_grad()"
      ],
      "metadata": {
        "id": "L2RizNOkPGZl"
      }
    },
    {
      "cell_type": "code",
      "source": [
        "x. requires_grad_(False)"
      ],
      "metadata": {
        "colab": {
          "base_uri": "https://localhost:8080/"
        },
        "id": "J7dk6WM0N1Ih",
        "outputId": "c26bb7f2-6876-4eeb-c676-a8f654271311"
      },
      "execution_count": 12,
      "outputs": [
        {
          "output_type": "execute_result",
          "data": {
            "text/plain": [
              "tensor([-0.1345, -1.5727,  1.0133])"
            ]
          },
          "metadata": {},
          "execution_count": 12
        }
      ]
    },
    {
      "cell_type": "code",
      "source": [
        "y= x. detach()\n",
        "y"
      ],
      "metadata": {
        "colab": {
          "base_uri": "https://localhost:8080/"
        },
        "id": "_H5-E3E5Pc1J",
        "outputId": "aa6174d3-645f-47c8-9903-b73ff3cd38d3"
      },
      "execution_count": 13,
      "outputs": [
        {
          "output_type": "execute_result",
          "data": {
            "text/plain": [
              "tensor([-0.1345, -1.5727,  1.0133])"
            ]
          },
          "metadata": {},
          "execution_count": 13
        }
      ]
    },
    {
      "cell_type": "code",
      "source": [
        "with torch.no_grad():\n",
        "  y = x + 2\n"
      ],
      "metadata": {
        "id": "6PrQho5oPdGi"
      },
      "execution_count": 14,
      "outputs": []
    },
    {
      "cell_type": "code",
      "source": [
        "y"
      ],
      "metadata": {
        "colab": {
          "base_uri": "https://localhost:8080/"
        },
        "id": "KIRJ0IXfPle7",
        "outputId": "0dd04b8e-a677-46e2-c012-11b64525659a"
      },
      "execution_count": 15,
      "outputs": [
        {
          "output_type": "execute_result",
          "data": {
            "text/plain": [
              "tensor([1.8655, 0.4273, 3.0133])"
            ]
          },
          "metadata": {},
          "execution_count": 15
        }
      ]
    },
    {
      "cell_type": "code",
      "source": [
        " weights = torch.ones(4, requires_grad= True)"
      ],
      "metadata": {
        "id": "BD_5lDM8P-5N"
      },
      "execution_count": 16,
      "outputs": []
    },
    {
      "cell_type": "code",
      "source": [
        "for epoch in range(3):\n",
        "\n",
        "  model_output =(weights *3).sum()\n",
        "\n",
        "  model_output.backward()\n",
        "\n",
        "  print(weights.grad)\n",
        "\n",
        "  weights.grad.zero_()"
      ],
      "metadata": {
        "colab": {
          "base_uri": "https://localhost:8080/"
        },
        "id": "f8yJd7GtQ4Dl",
        "outputId": "80bf980c-a326-4529-cd6c-8fa3f57f331a"
      },
      "execution_count": 17,
      "outputs": [
        {
          "output_type": "stream",
          "name": "stdout",
          "text": [
            "tensor([3., 3., 3., 3.])\n",
            "tensor([3., 3., 3., 3.])\n",
            "tensor([3., 3., 3., 3.])\n"
          ]
        }
      ]
    },
    {
      "cell_type": "code",
      "source": [
        " x = torch.tensor(2.3, requires_grad= True)"
      ],
      "metadata": {
        "id": "ozRjlWCbRQev"
      },
      "execution_count": 18,
      "outputs": []
    },
    {
      "cell_type": "markdown",
      "source": [
        "![image.png](data:image/png;base64,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)"
      ],
      "metadata": {
        "id": "92dwCejIUu2Y"
      }
    },
    {
      "cell_type": "code",
      "source": [
        "y = 3*x**3 + 5*x**2 + 7*x +1\n",
        "y"
      ],
      "metadata": {
        "colab": {
          "base_uri": "https://localhost:8080/"
        },
        "id": "T4MnViyVUiMp",
        "outputId": "51345825-d1b3-4a1f-cd5f-1450c7f4365c"
      },
      "execution_count": 19,
      "outputs": [
        {
          "output_type": "execute_result",
          "data": {
            "text/plain": [
              "tensor(80.0510, grad_fn=<AddBackward0>)"
            ]
          },
          "metadata": {},
          "execution_count": 19
        }
      ]
    },
    {
      "cell_type": "code",
      "source": [
        "# compute the derivative of the function simply by using backward () method.\n",
        "\n",
        "y.backward()"
      ],
      "metadata": {
        "id": "zzXhU8EPU86L"
      },
      "execution_count": 20,
      "outputs": []
    },
    {
      "cell_type": "code",
      "source": [
        "x.grad"
      ],
      "metadata": {
        "colab": {
          "base_uri": "https://localhost:8080/"
        },
        "id": "yWm2hE1NVDZf",
        "outputId": "e662967c-ea10-44bc-c23f-5b48ac977572"
      },
      "execution_count": 21,
      "outputs": [
        {
          "output_type": "execute_result",
          "data": {
            "text/plain": [
              "tensor(77.6100)"
            ]
          },
          "metadata": {},
          "execution_count": 21
        }
      ]
    },
    {
      "cell_type": "code",
      "source": [
        ""
      ],
      "metadata": {
        "id": "-7OnzImxVGA6"
      },
      "execution_count": 21,
      "outputs": []
    }
  ]
}