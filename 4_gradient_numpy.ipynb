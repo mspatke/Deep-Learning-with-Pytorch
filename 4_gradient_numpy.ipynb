{
  "nbformat": 4,
  "nbformat_minor": 0,
  "metadata": {
    "colab": {
      "name": "4_gradient_numpy.ipynb",
      "provenance": [],
      "authorship_tag": "ABX9TyPUYxcisOKZ0FkJjlmHVrlI",
      "include_colab_link": true
    },
    "kernelspec": {
      "name": "python3",
      "display_name": "Python 3"
    },
    "language_info": {
      "name": "python"
    },
    "accelerator": "GPU"
  },
  "cells": [
    {
      "cell_type": "markdown",
      "metadata": {
        "id": "view-in-github",
        "colab_type": "text"
      },
      "source": [
        "<a href=\"https://colab.research.google.com/github/mspatke/Deep-Learning-with-Pytorch/blob/main/4_gradient_numpy.ipynb\" target=\"_parent\"><img src=\"https://colab.research.google.com/assets/colab-badge.svg\" alt=\"Open In Colab\"/></a>"
      ]
    },
    {
      "cell_type": "code",
      "execution_count": 1,
      "metadata": {
        "id": "haf1vHaHaZE8"
      },
      "outputs": [],
      "source": [
        "import torch \n",
        "import numpy as np"
      ]
    },
    {
      "cell_type": "code",
      "source": [
        "# f = w* x\n",
        "\n",
        "# f = 2* x"
      ],
      "metadata": {
        "id": "TTDH1J92a7Do"
      },
      "execution_count": 2,
      "outputs": []
    },
    {
      "cell_type": "code",
      "source": [
        "X = np.array([1,2,3,4], dtype = np.float32)\n",
        "\n",
        "Y= np.array([2,4,6,8], dtype = np.float32)"
      ],
      "metadata": {
        "id": "MUHxFROgtnDp"
      },
      "execution_count": 4,
      "outputs": []
    },
    {
      "cell_type": "code",
      "source": [
        "w = 0.0"
      ],
      "metadata": {
        "id": "_KyJuFKYtuMr"
      },
      "execution_count": 5,
      "outputs": []
    },
    {
      "cell_type": "code",
      "source": [
        "#Model preditcion\n",
        "def forward(x):\n",
        "  return w * x"
      ],
      "metadata": {
        "id": "j7DxnM3Zt1Nz"
      },
      "execution_count": 7,
      "outputs": []
    },
    {
      "cell_type": "code",
      "source": [
        "#loss = MSE\n",
        "\n",
        "def loss(y,y_pred):\n",
        "  return((y_pred - y )**2).mean()"
      ],
      "metadata": {
        "id": "ynLJjvjrt68R"
      },
      "execution_count": 8,
      "outputs": []
    },
    {
      "cell_type": "code",
      "source": [
        "#gradient\n",
        "\n",
        "# MSE = 1/N * (w * x - y)**2\n",
        "# dj/dw = 1/N 2 x (w * x - y)\n",
        "\n",
        "def gradient(x,y,y_pred):\n",
        "  return np.dot(2*x, y_pred-y).mean()"
      ],
      "metadata": {
        "id": "vxWfCQ7ZuKiQ"
      },
      "execution_count": 9,
      "outputs": []
    },
    {
      "cell_type": "code",
      "source": [
        "print(f\"Prediction before training: f(5) = {forward(5):.3f}\")"
      ],
      "metadata": {
        "colab": {
          "base_uri": "https://localhost:8080/"
        },
        "id": "SGfZy7wwujA9",
        "outputId": "a64cc9b1-c9e1-4243-9303-198a1489fc39"
      },
      "execution_count": 11,
      "outputs": [
        {
          "output_type": "stream",
          "name": "stdout",
          "text": [
            "Prediction before training: f(5) = 0.000\n"
          ]
        }
      ]
    },
    {
      "cell_type": "code",
      "source": [
        "learning_rate = 0.01\n",
        "iters = 20"
      ],
      "metadata": {
        "id": "rLeN0foOuv-L"
      },
      "execution_count": 15,
      "outputs": []
    },
    {
      "cell_type": "code",
      "source": [
        "for epoch in range(iters):\n",
        "\n",
        "  #prediction fwd pass\n",
        "  y_pred = forward(X)\n",
        "  l = loss(Y,y_pred)\n",
        "\n",
        "  #gradinets\n",
        "\n",
        "  dw = gradient(X,Y,y_pred)\n",
        "\n",
        "  #updates weights\n",
        "  w -= learning_rate * dw\n",
        "\n",
        "  if epoch % 2 ==0:\n",
        "    print(f'epoch {epoch+1} : w={w:.3f}, loss ={l:.8f}')\n",
        "\n",
        "print(f\"Prediction after training: f(5) = {forward(5):.3f}\")"
      ],
      "metadata": {
        "colab": {
          "base_uri": "https://localhost:8080/"
        },
        "id": "IVagettTu3Z5",
        "outputId": "4fc84e89-696b-4b3e-8f19-d65fc7a60e70"
      },
      "execution_count": 17,
      "outputs": [
        {
          "output_type": "stream",
          "name": "stdout",
          "text": [
            "epoch 1 : w=2.000, loss =0.00000000\n",
            "epoch 3 : w=2.000, loss =0.00000000\n",
            "epoch 5 : w=2.000, loss =0.00000000\n",
            "epoch 7 : w=2.000, loss =0.00000000\n",
            "epoch 9 : w=2.000, loss =0.00000000\n",
            "epoch 11 : w=2.000, loss =0.00000000\n",
            "epoch 13 : w=2.000, loss =0.00000000\n",
            "epoch 15 : w=2.000, loss =0.00000000\n",
            "epoch 17 : w=2.000, loss =0.00000000\n",
            "epoch 19 : w=2.000, loss =0.00000000\n",
            "Prediction after training: f(5) = 10.000\n"
          ]
        }
      ]
    },
    {
      "cell_type": "code",
      "source": [
        ""
      ],
      "metadata": {
        "id": "Kiqr4xIYwBwH"
      },
      "execution_count": null,
      "outputs": []
    }
  ]
}