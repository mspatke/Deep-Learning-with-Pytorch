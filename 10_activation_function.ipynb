{
  "nbformat": 4,
  "nbformat_minor": 0,
  "metadata": {
    "colab": {
      "name": "10_activation_function.ipynb",
      "provenance": [],
      "include_colab_link": true
    },
    "kernelspec": {
      "name": "python3",
      "display_name": "Python 3"
    },
    "language_info": {
      "name": "python"
    }
  },
  "cells": [
    {
      "cell_type": "markdown",
      "metadata": {
        "id": "view-in-github",
        "colab_type": "text"
      },
      "source": [
        "<a href=\"https://colab.research.google.com/github/mspatke/Deep-Learning-with-Pytorch/blob/main/10_activation_function.ipynb\" target=\"_parent\"><img src=\"https://colab.research.google.com/assets/colab-badge.svg\" alt=\"Open In Colab\"/></a>"
      ]
    },
    {
      "cell_type": "code",
      "execution_count": 1,
      "metadata": {
        "id": "UnCix7DL6I2X"
      },
      "outputs": [],
      "source": [
        "import torch\n",
        "import torch.nn as nn\n",
        "import torch.nn.functional as F"
      ]
    },
    {
      "cell_type": "code",
      "source": [
        "x = torch. tensor ([-1.0, 1.0, 2.0,3.0])"
      ],
      "metadata": {
        "id": "FQMAx_g86cln"
      },
      "execution_count": 2,
      "outputs": []
    },
    {
      "cell_type": "code",
      "source": [
        "# output = WX + b\n",
        "# output = activation_function(output)\n",
        "\n",
        "#softmax\n",
        "\n",
        "output = torch.softmax(x, dim=0)\n",
        "print(output)\n",
        "\n",
        "sm = nn.Softmax(dim=0)\n",
        "output= sm(x)\n",
        "print(output)"
      ],
      "metadata": {
        "id": "RrjQbs6y6npd",
        "colab": {
          "base_uri": "https://localhost:8080/"
        },
        "outputId": "a3cbe3fa-82ed-4f4e-b10e-d7a17e418b18"
      },
      "execution_count": 3,
      "outputs": [
        {
          "output_type": "stream",
          "name": "stdout",
          "text": [
            "tensor([0.0120, 0.0889, 0.2418, 0.6572])\n",
            "tensor([0.0120, 0.0889, 0.2418, 0.6572])\n"
          ]
        }
      ]
    },
    {
      "cell_type": "code",
      "source": [
        "# sigmoid\n",
        "\n",
        "output = torch.sigmoid(x)\n",
        "print(output)\n",
        "\n",
        "s=nn.Sigmoid()\n",
        "output = s(x)\n",
        "print(output)"
      ],
      "metadata": {
        "id": "1TNYKfxx6ykz",
        "colab": {
          "base_uri": "https://localhost:8080/"
        },
        "outputId": "b2bc88a4-fbd5-4c43-d041-3b191a5fb064"
      },
      "execution_count": 4,
      "outputs": [
        {
          "output_type": "stream",
          "name": "stdout",
          "text": [
            "tensor([0.2689, 0.7311, 0.8808, 0.9526])\n",
            "tensor([0.2689, 0.7311, 0.8808, 0.9526])\n"
          ]
        }
      ]
    },
    {
      "cell_type": "code",
      "source": [
        "#tanh\n",
        "\n",
        "output = torch.tanh(x)\n",
        "print(output)\n",
        "\n",
        "s=nn.Tanh()\n",
        "output = s(x)\n",
        "print(output)"
      ],
      "metadata": {
        "id": "2iVYgR0E7act",
        "colab": {
          "base_uri": "https://localhost:8080/"
        },
        "outputId": "80e7881b-282f-47e7-e0ce-08006f2f0afd"
      },
      "execution_count": 5,
      "outputs": [
        {
          "output_type": "stream",
          "name": "stdout",
          "text": [
            "tensor([-0.7616,  0.7616,  0.9640,  0.9951])\n",
            "tensor([-0.7616,  0.7616,  0.9640,  0.9951])\n"
          ]
        }
      ]
    },
    {
      "cell_type": "code",
      "source": [
        "# ReLU\n",
        "\n",
        "output = torch.relu(x)\n",
        "print(output)\n",
        "\n",
        "s=nn.ReLU()\n",
        "output = s(x)\n",
        "print(output)"
      ],
      "metadata": {
        "id": "OgBwoy1h7qNO",
        "colab": {
          "base_uri": "https://localhost:8080/"
        },
        "outputId": "949d8b71-03a8-411b-a290-82271f8621f0"
      },
      "execution_count": 6,
      "outputs": [
        {
          "output_type": "stream",
          "name": "stdout",
          "text": [
            "tensor([0., 1., 2., 3.])\n",
            "tensor([0., 1., 2., 3.])\n"
          ]
        }
      ]
    },
    {
      "cell_type": "code",
      "source": [
        "# Leaky Relu\n",
        "\n",
        "output = F.leaky_relu(x)\n",
        "print(output)\n",
        "\n",
        "s=nn.LeakyReLU()\n",
        "output = s(x)\n",
        "print(output)"
      ],
      "metadata": {
        "id": "tCLvKjxp74u9",
        "colab": {
          "base_uri": "https://localhost:8080/"
        },
        "outputId": "895548af-ec77-45e1-871a-0231332e991c"
      },
      "execution_count": 7,
      "outputs": [
        {
          "output_type": "stream",
          "name": "stdout",
          "text": [
            "tensor([-0.0100,  1.0000,  2.0000,  3.0000])\n",
            "tensor([-0.0100,  1.0000,  2.0000,  3.0000])\n"
          ]
        }
      ]
    },
    {
      "cell_type": "code",
      "source": [
        "# option 1 (create nn modules)\n",
        "\n",
        "class NeuralNet(nn.Module):\n",
        "   \n",
        "    def __init__(self, input_size, hidden_size):\n",
        "        super(NeuralNet, self).__init__()\n",
        "        self.linear1 = nn.Linear(input_size, hidden_size)\n",
        "        self.relu = nn.ReLU()\n",
        "        self.linear2 = nn.Linear(hidden_size, 1)\n",
        "        self.sigmoid = nn.Sigmoid()\n",
        "    \n",
        "    def forward(self, x):\n",
        "        out = self.linear1(x)\n",
        "        out = self.relu(out)\n",
        "        out = self.linear2(out)\n",
        "        out = self.sigmoid(out)\n",
        "        return out"
      ],
      "metadata": {
        "id": "hClLy24Y8NzL"
      },
      "execution_count": 8,
      "outputs": []
    },
    {
      "cell_type": "code",
      "source": [
        "# option 2 (use activation functions directly in forward pass)\n",
        "class NeuralNet(nn.Module):\n",
        "    def __init__(self, input_size, hidden_size):\n",
        "        super(NeuralNet, self).__init__()\n",
        "        self.linear1 = nn.Linear(input_size, hidden_size)\n",
        "        self.linear2 = nn.Linear(hidden_size, 1)\n",
        "    \n",
        "    def forward(self, x):\n",
        "        out = torch.relu(self.linear1(x))\n",
        "        out = torch.sigmoid(self.linear2(out))\n",
        "        return out"
      ],
      "metadata": {
        "id": "9XkIliTD8WFB"
      },
      "execution_count": 9,
      "outputs": []
    },
    {
      "cell_type": "code",
      "source": [
        ""
      ],
      "metadata": {
        "id": "FSKWntHs8aEW"
      },
      "execution_count": 9,
      "outputs": []
    }
  ]
}