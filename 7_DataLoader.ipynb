{
  "nbformat": 4,
  "nbformat_minor": 0,
  "metadata": {
    "colab": {
      "name": "7_DataLoader.ipynb",
      "private_outputs": true,
      "provenance": [],
      "collapsed_sections": [],
      "authorship_tag": "ABX9TyOJEk+QofpiexkURNg2MAQ4",
      "include_colab_link": true
    },
    "kernelspec": {
      "name": "python3",
      "display_name": "Python 3"
    },
    "language_info": {
      "name": "python"
    }
  },
  "cells": [
    {
      "cell_type": "markdown",
      "metadata": {
        "id": "view-in-github",
        "colab_type": "text"
      },
      "source": [
        "<a href=\"https://colab.research.google.com/github/mspatke/Deep-Learning-with-Pytorch/blob/main/7_DataLoader.ipynb\" target=\"_parent\"><img src=\"https://colab.research.google.com/assets/colab-badge.svg\" alt=\"Open In Colab\"/></a>"
      ]
    },
    {
      "cell_type": "markdown",
      "source": [
        "Epoch = 1 forward and backward pass of all training samples\n",
        "\n",
        "batch_size = no. of training samples in one forward and backward pass\n",
        "\n",
        "no of iterations = no of passes, each pass using [batch_size] no of samples\n",
        "\n",
        "eg,100 samples, batch_size=20 --> 100/20 = 5 iteration for 1 epoch"
      ],
      "metadata": {
        "id": "Iu3juDDhFGtz"
      }
    },
    {
      "cell_type": "code",
      "source": [
        "import torch\n",
        "import torchvision\n",
        "from torch.utils.data import Dataset, DataLoader\n",
        "import numpy as np\n",
        "import math"
      ],
      "metadata": {
        "id": "KSZL2vjHEmiu"
      },
      "execution_count": null,
      "outputs": []
    },
    {
      "cell_type": "code",
      "execution_count": null,
      "metadata": {
        "id": "1a5z51D_ES2C"
      },
      "outputs": [],
      "source": [
        "class WineDataset(Dataset):\n",
        "\n",
        "  def __init__(self):\n",
        "\n",
        "    xy= np.loadtxt('wine.csv', delimiter=',', dtype = np.float32, skiprows=1)\n",
        "    self.n_samples= xy.shape[0]\n",
        "\n",
        "    self.x_data= torch.from_numpy(xy[:,1:])   \n",
        "    self.y_data= torch.from_numpy(xy[:,[0]])\n",
        "                                  \n",
        "  def __getitem__(self, index):\n",
        "    return self.x_data[index], self.y_data[index]\n",
        "\n",
        "  def __len__(self):\n",
        "    return self.n_samples\n",
        "                                  \n"
      ]
    },
    {
      "cell_type": "code",
      "source": [
        "dataset = WineDataset()"
      ],
      "metadata": {
        "id": "A_ZrwvJlFwdk"
      },
      "execution_count": null,
      "outputs": []
    },
    {
      "cell_type": "code",
      "source": [
        "first = dataset[0]\n",
        "features, labels = first"
      ],
      "metadata": {
        "id": "XG3LdxCElsGw"
      },
      "execution_count": null,
      "outputs": []
    },
    {
      "cell_type": "code",
      "source": [
        "features"
      ],
      "metadata": {
        "id": "T9-kEvRdl1fK"
      },
      "execution_count": null,
      "outputs": []
    },
    {
      "cell_type": "code",
      "source": [
        "labels"
      ],
      "metadata": {
        "id": "mbWpjIV7mWZC"
      },
      "execution_count": null,
      "outputs": []
    },
    {
      "cell_type": "code",
      "source": [
        "train_loader = DataLoader(dataset = dataset,\n",
        "                          batch_size=4,\n",
        "                          shuffle=True,\n",
        "                          num_workers=2)"
      ],
      "metadata": {
        "id": "obVbM4ONmXPb"
      },
      "execution_count": null,
      "outputs": []
    },
    {
      "cell_type": "code",
      "source": [
        "dataiter=iter(train_loader)\n",
        "data = dataiter.next()\n",
        "features, labels = data"
      ],
      "metadata": {
        "id": "S5dElnoZm5qo"
      },
      "execution_count": null,
      "outputs": []
    },
    {
      "cell_type": "code",
      "source": [
        "print(features, labels)"
      ],
      "metadata": {
        "id": "AG---PFSnH_E"
      },
      "execution_count": null,
      "outputs": []
    },
    {
      "cell_type": "code",
      "source": [
        "#dummy training loop\n",
        "\n",
        "epochs=2\n",
        "total_samples = len(dataset)\n",
        "n_iterations = math.ceil(total_samples/4)\n",
        "\n",
        "for epoch in range(epochs):\n",
        "  for i, (inputs, labels) in enumerate(train_loader):\n",
        "\n",
        "    if(i+1) % 5 ==0:\n",
        "      print(f'Epoch :{epoch+1}/{epochs}, Step {i+1}/{n_iterations}| Inputs {inputs.shape} | Labels {labels.shape}')\n"
      ],
      "metadata": {
        "id": "foUc_ggcnJzk"
      },
      "execution_count": null,
      "outputs": []
    },
    {
      "cell_type": "code",
      "source": [
        "total_samples, n_iterations"
      ],
      "metadata": {
        "id": "AdcKHHn5nwj_"
      },
      "execution_count": null,
      "outputs": []
    },
    {
      "cell_type": "code",
      "source": [
        "\n",
        "train_dataset = torchvision.datasets.MNIST(root ='./data',\n",
        "                                           train= True,\n",
        "                                           transform=torchvision.transforms.ToTensor(),\n",
        "                                           download=True)\n",
        "\n",
        "train_loader = DataLoader(dataset=train_dataset,\n",
        "                          batch_size=3,\n",
        "                          shuffle=True)"
      ],
      "metadata": {
        "id": "NDN32OJonz0A"
      },
      "execution_count": null,
      "outputs": []
    },
    {
      "cell_type": "code",
      "source": [
        "dataitr = iter(train_loader)\n",
        "data = dataitr.next()\n",
        "inputs, targets = data\n",
        "print(inputs.shape, targets.shape)"
      ],
      "metadata": {
        "id": "4LdxgJFEppRZ"
      },
      "execution_count": null,
      "outputs": []
    },
    {
      "cell_type": "code",
      "source": [
        ""
      ],
      "metadata": {
        "id": "PnqNohRVp8wb"
      },
      "execution_count": null,
      "outputs": []
    }
  ]
}